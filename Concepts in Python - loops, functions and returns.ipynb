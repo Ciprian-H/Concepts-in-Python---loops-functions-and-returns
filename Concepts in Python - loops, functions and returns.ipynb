{
 "cells": [
  {
   "cell_type": "markdown",
   "id": "47a8731a",
   "metadata": {},
   "source": [
    "# Concepts in Python - loops, functions and returns\n",
    "Task 1 - While loop\n",
    "\n",
    "Task 2 - For loop\n",
    "\n",
    "Task 3 - Loop control statements\n",
    "\n",
    "Task 4 - Nested loop\n",
    "\n",
    "Task 5 - Functions\n",
    "\n",
    "Task 6 - Return statement"
   ]
  },
  {
   "cell_type": "markdown",
   "id": "c5ec6bd2",
   "metadata": {},
   "source": [
    "## Task 1 - While loop"
   ]
  },
  {
   "cell_type": "code",
   "execution_count": 1,
   "id": "3aed01be",
   "metadata": {},
   "outputs": [
    {
     "name": "stdout",
     "output_type": "stream",
     "text": [
      "1\n",
      "2\n",
      "3\n",
      "4\n"
     ]
    }
   ],
   "source": [
    "number = 1\n",
    "while number<5:\n",
    "    print(number)\n",
    "    number = number + 1"
   ]
  },
  {
   "cell_type": "code",
   "execution_count": 2,
   "id": "0d54804e",
   "metadata": {},
   "outputs": [
    {
     "name": "stdout",
     "output_type": "stream",
     "text": [
      "1\n",
      "2\n",
      "3\n",
      "4\n"
     ]
    }
   ],
   "source": [
    "number = 1\n",
    "while number<5:\n",
    "    print(number)\n",
    "    number+=1"
   ]
  },
  {
   "cell_type": "code",
   "execution_count": 3,
   "id": "c89ac3fb",
   "metadata": {},
   "outputs": [
    {
     "name": "stdout",
     "output_type": "stream",
     "text": [
      "26\n",
      "24\n",
      "22\n",
      "20\n",
      "18\n",
      "16\n",
      "While loop has ended\n"
     ]
    }
   ],
   "source": [
    "counter = 26\n",
    "while counter>15:\n",
    "    print(counter)\n",
    "    counter-=2\n",
    "    \n",
    "print('While loop has ended')"
   ]
  },
  {
   "cell_type": "markdown",
   "id": "9d1f893b",
   "metadata": {},
   "source": [
    "## Task 2 - For loop"
   ]
  },
  {
   "cell_type": "code",
   "execution_count": 4,
   "id": "19bdfa6a",
   "metadata": {},
   "outputs": [
    {
     "name": "stdout",
     "output_type": "stream",
     "text": [
      "Audi\n",
      "VW\n",
      "Honda\n",
      "Ford\n"
     ]
    }
   ],
   "source": [
    "cars = ['Audi', 'VW', 'Honda', 'Ford']\n",
    "\n",
    "for car in cars:\n",
    "    print(car)"
   ]
  },
  {
   "cell_type": "code",
   "execution_count": 5,
   "id": "1246ce0d",
   "metadata": {},
   "outputs": [
    {
     "name": "stdout",
     "output_type": "stream",
     "text": [
      "['Audi', 'VW', 'Honda', 'Ford']\n"
     ]
    },
    {
     "data": {
      "text/plain": [
       "['Audi', 'VW', 'Honda', 'Ford']"
      ]
     },
     "execution_count": 5,
     "metadata": {},
     "output_type": "execute_result"
    }
   ],
   "source": [
    "print(cars)\n",
    "cars"
   ]
  },
  {
   "cell_type": "code",
   "execution_count": 6,
   "id": "f6e80da3",
   "metadata": {},
   "outputs": [
    {
     "name": "stdout",
     "output_type": "stream",
     "text": [
      "2\n",
      "4\n",
      "6\n",
      "8\n",
      "10\n",
      "12\n"
     ]
    }
   ],
   "source": [
    "numbers = [1,2,3,4,5,6]\n",
    "for number in numbers:\n",
    "    print(number*2)"
   ]
  },
  {
   "cell_type": "code",
   "execution_count": 7,
   "id": "956ddb24",
   "metadata": {},
   "outputs": [
    {
     "name": "stdout",
     "output_type": "stream",
     "text": [
      "1\n",
      "2\n",
      "3\n",
      "4\n"
     ]
    }
   ],
   "source": [
    "numbers = [1,2,3,4,5,6]\n",
    "for number in numbers:\n",
    "    print(number)\n",
    "    if number == 4:\n",
    "        break\n",
    "else:\n",
    "    print('Number was not found')"
   ]
  },
  {
   "cell_type": "markdown",
   "id": "eca0eac4",
   "metadata": {},
   "source": [
    "## Task 3 - Loop control statements"
   ]
  },
  {
   "cell_type": "code",
   "execution_count": 8,
   "id": "77a5fb20",
   "metadata": {},
   "outputs": [
    {
     "name": "stdout",
     "output_type": "stream",
     "text": [
      "1\n",
      "Inside the for loop\n",
      "2\n",
      "Inside the for loop\n",
      "3\n",
      "Inside the for loop\n",
      "4\n",
      "Inside the for loop\n",
      "5\n"
     ]
    }
   ],
   "source": [
    "numbers = [1,2,3,4,5,6]\n",
    "for number in numbers:\n",
    "    print(number)\n",
    "    if number == 5:\n",
    "        break\n",
    "    print('Inside the for loop')\n",
    "else:\n",
    "    print('Outside the for loop')"
   ]
  },
  {
   "cell_type": "code",
   "execution_count": 9,
   "id": "b517ce7c",
   "metadata": {},
   "outputs": [
    {
     "name": "stdout",
     "output_type": "stream",
     "text": [
      "1\n",
      "Inside the for loop\n",
      "2\n",
      "Inside the for loop\n",
      "3\n",
      "Inside the for loop\n",
      "4\n",
      "Inside the for loop\n",
      "5\n",
      "Inside the for loop\n",
      "6\n",
      "Inside the for loop\n",
      "Outside the for loop\n"
     ]
    }
   ],
   "source": [
    "numbers = [1,2,3,4,5,6]\n",
    "for number in numbers:\n",
    "    print(number)\n",
    "    if number == 7:\n",
    "        break\n",
    "    print('Inside the for loop')\n",
    "else:\n",
    "    print('Outside the for loop')"
   ]
  },
  {
   "cell_type": "code",
   "execution_count": 10,
   "id": "cef98feb",
   "metadata": {},
   "outputs": [
    {
     "name": "stdout",
     "output_type": "stream",
     "text": [
      "Audi\n",
      "VW\n",
      "Jaguar\n"
     ]
    }
   ],
   "source": [
    "cars = ['Audi', 'VW', 'Jaguar', 'Mini']\n",
    "for car in cars:\n",
    "    print(car)\n",
    "    if car == 'Jaguar':\n",
    "        break"
   ]
  },
  {
   "cell_type": "code",
   "execution_count": 11,
   "id": "3fd67da3",
   "metadata": {},
   "outputs": [
    {
     "name": "stdout",
     "output_type": "stream",
     "text": [
      "Audi\n",
      "VW\n"
     ]
    }
   ],
   "source": [
    "cars = ['Audi', 'VW', 'Jaguar', 'Mini']\n",
    "for car in cars:\n",
    "    if car == 'Jaguar':\n",
    "        break\n",
    "    print(car)"
   ]
  },
  {
   "cell_type": "code",
   "execution_count": 12,
   "id": "41460aa4",
   "metadata": {},
   "outputs": [
    {
     "name": "stdout",
     "output_type": "stream",
     "text": [
      "Audi\n",
      "VW\n"
     ]
    }
   ],
   "source": [
    "cars = ['Audi', 'VW', 'Jaguar', 'Mini']\n",
    "for car in cars:\n",
    "    if car == 'Jaguar':\n",
    "        break\n",
    "    else:\n",
    "        print(car)"
   ]
  },
  {
   "cell_type": "code",
   "execution_count": 13,
   "id": "7538a540",
   "metadata": {},
   "outputs": [
    {
     "name": "stdout",
     "output_type": "stream",
     "text": [
      "Audi\n",
      "VW\n",
      "Mini\n"
     ]
    }
   ],
   "source": [
    "cars = ['Audi', 'VW', 'Jaguar', 'Mini']\n",
    "for car in cars:\n",
    "    if car == 'Jaguar':\n",
    "        continue\n",
    "    else:\n",
    "        print(car)"
   ]
  },
  {
   "cell_type": "code",
   "execution_count": 14,
   "id": "52cda2f7",
   "metadata": {},
   "outputs": [
    {
     "name": "stdout",
     "output_type": "stream",
     "text": [
      "Audi\n",
      "VW\n",
      "Jaguar\n",
      "Mini\n"
     ]
    }
   ],
   "source": [
    "cars = ['Audi', 'VW', 'Jaguar', 'Mini']\n",
    "for car in cars:\n",
    "    print(car)\n",
    "    if car == 'Jaguar':\n",
    "        continue"
   ]
  },
  {
   "cell_type": "code",
   "execution_count": 15,
   "id": "880e45b3",
   "metadata": {},
   "outputs": [
    {
     "name": "stdout",
     "output_type": "stream",
     "text": [
      "1\n",
      "2\n",
      "3\n",
      "4\n",
      "5\n",
      "Number needs to be skipped\n",
      "7\n",
      "8\n",
      "9\n",
      "10\n"
     ]
    }
   ],
   "source": [
    "numbers = [1,2,3,4,5,6,7,8,9,10]\n",
    "for number in numbers:\n",
    "    if number == 6:\n",
    "        print('Number needs to be skipped')\n",
    "        continue\n",
    "    else:\n",
    "        print(number)"
   ]
  },
  {
   "cell_type": "code",
   "execution_count": 16,
   "id": "40893b49",
   "metadata": {},
   "outputs": [
    {
     "name": "stdout",
     "output_type": "stream",
     "text": [
      "2\n",
      "4\n",
      "6\n",
      "8\n",
      "10\n"
     ]
    }
   ],
   "source": [
    "numbers = [1,2,3,4,5,6,7,8,9,10]\n",
    "for number in numbers:\n",
    "    if number %2:\n",
    "        pass\n",
    "    else:\n",
    "        print(number)"
   ]
  },
  {
   "cell_type": "code",
   "execution_count": 17,
   "id": "aa5ace55",
   "metadata": {},
   "outputs": [
    {
     "name": "stdout",
     "output_type": "stream",
     "text": [
      "1\n",
      "3\n",
      "5\n",
      "7\n",
      "9\n"
     ]
    }
   ],
   "source": [
    "numbers = [1,2,3,4,5,6,7,8,9,10]\n",
    "for number in numbers:\n",
    "    if number %2==0:\n",
    "        pass\n",
    "    else:\n",
    "        print(number)"
   ]
  },
  {
   "cell_type": "code",
   "execution_count": 18,
   "id": "867a5f9a",
   "metadata": {},
   "outputs": [
    {
     "name": "stdout",
     "output_type": "stream",
     "text": [
      "2\n",
      "4\n",
      "6\n",
      "8\n",
      "10\n"
     ]
    }
   ],
   "source": [
    "numbers = [1,2,3,4,5,6,7,8,9,10]\n",
    "for number in numbers:\n",
    "    if number %2!=0:\n",
    "        pass\n",
    "    else:\n",
    "        print(number)"
   ]
  },
  {
   "cell_type": "markdown",
   "id": "e5f5f806",
   "metadata": {},
   "source": [
    "## Task 4 - Nested loop"
   ]
  },
  {
   "cell_type": "code",
   "execution_count": 19,
   "id": "9334e524",
   "metadata": {},
   "outputs": [
    {
     "name": "stdout",
     "output_type": "stream",
     "text": [
      "1\n",
      "a\n",
      "b\n",
      "c\n",
      "2\n",
      "a\n",
      "b\n",
      "c\n",
      "3\n",
      "a\n",
      "b\n",
      "c\n"
     ]
    }
   ],
   "source": [
    "numbers = [1,2,3]\n",
    "letters = ['a', 'b', 'c']\n",
    "\n",
    "for number in numbers:\n",
    "    print(number)\n",
    "    for letter in letters:\n",
    "        print(letter)"
   ]
  },
  {
   "cell_type": "code",
   "execution_count": 20,
   "id": "dc7a9ab5",
   "metadata": {},
   "outputs": [
    {
     "name": "stdout",
     "output_type": "stream",
     "text": [
      "1 a\n",
      "1 b\n",
      "1 c\n",
      "2 a\n",
      "2 b\n",
      "2 c\n",
      "3 a\n",
      "3 b\n",
      "3 c\n"
     ]
    }
   ],
   "source": [
    "numbers = [1,2,3]\n",
    "letters = ['a', 'b', 'c']\n",
    "\n",
    "for number in numbers:    \n",
    "    for letter in letters:\n",
    "        print(str(number) + ' ' + letter)"
   ]
  },
  {
   "cell_type": "code",
   "execution_count": 21,
   "id": "95bd8a01",
   "metadata": {},
   "outputs": [
    {
     "name": "stdout",
     "output_type": "stream",
     "text": [
      "1 a\n",
      "1 b\n",
      "1 c\n",
      "2 a\n",
      "2 b\n",
      "2 c\n",
      "3 a\n",
      "3 b\n",
      "3 c\n"
     ]
    }
   ],
   "source": [
    "numbers = [1,2,3]\n",
    "letters = ['a', 'b', 'c']\n",
    "\n",
    "for number in numbers:    \n",
    "    for letter in letters:\n",
    "        print(number,letter)"
   ]
  },
  {
   "cell_type": "markdown",
   "id": "2c2796a1",
   "metadata": {},
   "source": [
    "## Task 5 - Functions"
   ]
  },
  {
   "cell_type": "code",
   "execution_count": 22,
   "id": "34018c25",
   "metadata": {},
   "outputs": [
    {
     "name": "stdout",
     "output_type": "stream",
     "text": [
      "My name: Ciprian\n"
     ]
    }
   ],
   "source": [
    "def print_name(name):\n",
    "    print('My name: ' + name)\n",
    "    \n",
    "print_name('Ciprian')"
   ]
  },
  {
   "cell_type": "code",
   "execution_count": 23,
   "id": "2d22de39",
   "metadata": {},
   "outputs": [
    {
     "name": "stdout",
     "output_type": "stream",
     "text": [
      "My name: Ciprian Hancu\n"
     ]
    }
   ],
   "source": [
    "def print_name(fname, lname):\n",
    "    print('My name: ' + fname + ' ' + lname)\n",
    "    \n",
    "print_name('Ciprian', 'Hancu')"
   ]
  },
  {
   "cell_type": "code",
   "execution_count": 24,
   "id": "700ac9eb",
   "metadata": {},
   "outputs": [
    {
     "name": "stdout",
     "output_type": "stream",
     "text": [
      "My name: Ciprian Hancu\n",
      "My age: 46\n"
     ]
    }
   ],
   "source": [
    "def about_me(fname, lname, age):\n",
    "    print('My name: ' + fname + ' ' + lname)\n",
    "    print('My age: ' + str(age))\n",
    "    \n",
    "about_me('Ciprian', 'Hancu', 46)"
   ]
  },
  {
   "cell_type": "code",
   "execution_count": 25,
   "id": "e59dd840",
   "metadata": {},
   "outputs": [
    {
     "name": "stdout",
     "output_type": "stream",
     "text": [
      "My name: Ciprian\n"
     ]
    }
   ],
   "source": [
    "def print_name(fname = 'Ciprian'):\n",
    "    print('My name: ' + fname)\n",
    "    \n",
    "print_name()"
   ]
  },
  {
   "cell_type": "markdown",
   "id": "c40d2b9b",
   "metadata": {},
   "source": [
    "## Task 6 - Return statement"
   ]
  },
  {
   "cell_type": "code",
   "execution_count": 26,
   "id": "306b80f9",
   "metadata": {},
   "outputs": [
    {
     "name": "stdout",
     "output_type": "stream",
     "text": [
      "Result = 6\n"
     ]
    }
   ],
   "source": [
    "def multiply(num1, num2):\n",
    "    return num1*num2\n",
    "\n",
    "result = multiply(2,3)\n",
    "print('Result = {}'.format(result))"
   ]
  },
  {
   "cell_type": "code",
   "execution_count": 27,
   "id": "8fb38d56",
   "metadata": {},
   "outputs": [
    {
     "data": {
      "text/plain": [
       "6"
      ]
     },
     "execution_count": 27,
     "metadata": {},
     "output_type": "execute_result"
    }
   ],
   "source": [
    "def multiply(num1, num2):\n",
    "    return num1*num2\n",
    "\n",
    "result = multiply(2,3)\n",
    "result"
   ]
  },
  {
   "cell_type": "code",
   "execution_count": 28,
   "id": "898e664e",
   "metadata": {},
   "outputs": [
    {
     "name": "stdout",
     "output_type": "stream",
     "text": [
      "Result: 6\n"
     ]
    }
   ],
   "source": [
    "def multiply(num1, num2):\n",
    "    return num1*num2\n",
    "\n",
    "print('Result: ' + str(multiply(2,3)))"
   ]
  },
  {
   "cell_type": "code",
   "execution_count": 29,
   "id": "f4a194f9",
   "metadata": {},
   "outputs": [
    {
     "name": "stdout",
     "output_type": "stream",
     "text": [
      "Hello Ciprian\n"
     ]
    }
   ],
   "source": [
    "def greeting(name):\n",
    "    return print('Hello {}'.format(name))\n",
    "\n",
    "greeting('Ciprian')"
   ]
  },
  {
   "cell_type": "code",
   "execution_count": 30,
   "id": "44acd300",
   "metadata": {},
   "outputs": [
    {
     "data": {
      "text/plain": [
       "'Hello Ciprian'"
      ]
     },
     "execution_count": 30,
     "metadata": {},
     "output_type": "execute_result"
    }
   ],
   "source": [
    "def greeting(name):\n",
    "    return 'Hello ' + name\n",
    "\n",
    "result = greeting('Ciprian')\n",
    "result"
   ]
  },
  {
   "cell_type": "code",
   "execution_count": 31,
   "id": "40a6b509",
   "metadata": {},
   "outputs": [
    {
     "name": "stdout",
     "output_type": "stream",
     "text": [
      "('Ciprian', 46, 1)\n"
     ]
    }
   ],
   "source": [
    "def about_me():\n",
    "    name='Ciprian'\n",
    "    age=46\n",
    "    children=1\n",
    "    return(name, age, children)\n",
    "\n",
    "list_result = about_me()\n",
    "print(list_result)"
   ]
  },
  {
   "cell_type": "code",
   "execution_count": 32,
   "id": "508994d8",
   "metadata": {},
   "outputs": [
    {
     "name": "stdout",
     "output_type": "stream",
     "text": [
      "('Ciprian', 46, 1)\n"
     ]
    },
    {
     "data": {
      "text/plain": [
       "('Ciprian', 46, 1)"
      ]
     },
     "execution_count": 32,
     "metadata": {},
     "output_type": "execute_result"
    }
   ],
   "source": [
    "def about_me():\n",
    "    name='Ciprian'\n",
    "    age=46\n",
    "    children=1\n",
    "    return(name, age, children)\n",
    "\n",
    "print(about_me())\n",
    "about_me()"
   ]
  }
 ],
 "metadata": {
  "kernelspec": {
   "display_name": "Python 3",
   "language": "python",
   "name": "python3"
  },
  "language_info": {
   "codemirror_mode": {
    "name": "ipython",
    "version": 3
   },
   "file_extension": ".py",
   "mimetype": "text/x-python",
   "name": "python",
   "nbconvert_exporter": "python",
   "pygments_lexer": "ipython3",
   "version": "3.8.10"
  }
 },
 "nbformat": 4,
 "nbformat_minor": 5
}
